{
 "cells": [
  {
   "cell_type": "markdown",
   "metadata": {},
   "source": [
    "# SpyfallRL\n",
    "\n",
    "Author: Ryan Lee (seungjaeryanlee)"
   ]
  },
  {
   "cell_type": "markdown",
   "metadata": {
    "jp-MarkdownHeadingCollapsed": true,
    "tags": []
   },
   "source": [
    "## What is Spyfall?"
   ]
  },
  {
   "cell_type": "markdown",
   "metadata": {},
   "source": [
    "\"A typical game of Spyfall lasts for about 10 minutes. Each player receives a card representing the same location, except one player who receives a \"spy\" card. The spy has to guess the location, while other players have to identify the spy. Players ask one another questions, trying to lure the spy out without giving them too much information. At any time during the game, or at its end when the timer runs out, one player can accuse another of being the spy; if there is a consensus and a spy is identified, the spy loses; otherwise, the spy wins.\" (From [Wikipedia](https://en.wikipedia.org/wiki/Spyfall))"
   ]
  },
  {
   "cell_type": "markdown",
   "metadata": {},
   "source": [
    "## Spyfall as an Environment"
   ]
  },
  {
   "cell_type": "markdown",
   "metadata": {},
   "source": [
    "### Spy vs Civilian"
   ]
  },
  {
   "cell_type": "markdown",
   "metadata": {},
   "source": [
    "There are two types of agents: spy and civilian. In each game, there is 1 spy, and all other agents are civilians. The civilians possess some information that the spy does not know.\n",
    " The spy's goal is to extract information without getting caught, and the civilian's goal is to find the spy without revealing information."
   ]
  },
  {
   "cell_type": "markdown",
   "metadata": {},
   "source": [
    "### The Three Phases"
   ]
  },
  {
   "cell_type": "markdown",
   "metadata": {},
   "source": [
    "#### Messaging Phase\n",
    "\n",
    "At each step, each agent **simultaneously** sends a message. The messages are public and are associated with the sender.\n",
    "\n",
    "#### Voting Phase\n",
    "\n",
    "After receiving all messages, each agent votes who the spy might be. If there is sufficient agreement, the environment terminates after this timestep ends.\n",
    "\n",
    "#### Guessing Phase\n",
    "\n",
    "At the end of some timesteps, the spy has the chance to guess the civilians' information. If the guess is correct, the environment terminates."
   ]
  },
  {
   "cell_type": "markdown",
   "metadata": {},
   "source": [
    "## The `SpyfallEnv`"
   ]
  }
 ],
 "metadata": {
  "kernelspec": {
   "display_name": "Python [conda env:spyfallrl]",
   "language": "python",
   "name": "conda-env-spyfallrl-py"
  },
  "language_info": {
   "codemirror_mode": {
    "name": "ipython",
    "version": 3
   },
   "file_extension": ".py",
   "mimetype": "text/x-python",
   "name": "python",
   "nbconvert_exporter": "python",
   "pygments_lexer": "ipython3",
   "version": "3.9.6"
  }
 },
 "nbformat": 4,
 "nbformat_minor": 4
}
